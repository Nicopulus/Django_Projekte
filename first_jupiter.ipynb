{
 "metadata": {
  "language_info": {
   "codemirror_mode": {
    "name": "ipython",
    "version": 3
   },
   "file_extension": ".py",
   "mimetype": "text/x-python",
   "name": "python",
   "nbconvert_exporter": "python",
   "pygments_lexer": "ipython3",
   "version": "3.7.7-final"
  },
  "orig_nbformat": 2,
  "kernelspec": {
   "name": "Python 3.7.7 64-bit",
   "display_name": "Python 3.7.7 64-bit",
   "metadata": {
    "interpreter": {
     "hash": "04635d289a519a1410467dd0afb0db42f9184808881ca68b2eb5a687a20a5a94"
    }
   }
  }
 },
 "nbformat": 4,
 "nbformat_minor": 2,
 "cells": [
  {
   "source": [
    "#Hier schreibt man eine Linie im Textfile mit der Messung und ihre Zeit.\n",
    "import os\n",
    "import datetime\n",
    "from pytz import timezone\n",
    "\n",
    "def write_reads(measure = \"sample\", now = datetime.datetime.now(tz=timezone('Europe/Berlin'))):\n",
    "    folder = os.getcwd()\n",
    "    file_name = \"write_reads.txt\"\n",
    "    path = folder+\"\\\\\"+file_name\n",
    "    \n",
    "    if os.path.exists(path):\n",
    "        file = open(path, \"a\")\n",
    "    else:\n",
    "        file = open(path, \"w\")\n",
    "    line = measure+\" || \"+str(now)+\"\\n\"\n",
    "    file.write(line)\n",
    "    file.close()\n",
    "    return [line, path]\n",
    "\n",
    "if __name__ == \"__main__\":\n",
    "    test = write_reads()\n",
    "    print(test)   "
   ],
   "cell_type": "code",
   "metadata": {},
   "execution_count": 53,
   "outputs": [
    {
     "output_type": "stream",
     "name": "stdout",
     "text": [
      "['sample || 2020-10-26 00:12:14.046050+01:00\\n', 'd:\\\\repos\\\\django_projekt_1\\\\write_reads.txt']\n"
     ]
    }
   ]
  },
  {
   "cell_type": "code",
   "execution_count": 27,
   "metadata": {},
   "outputs": [
    {
     "output_type": "stream",
     "name": "stdout",
     "text": [
      "0 sample 2020-10-25 22:37:52.746197+01:00\n1 sample 2020-10-25 22:40:10.118251+01:00\n2 sample 2020-10-25 22:40:47.402868+01:00\n3 sample 2020-10-25 22:41:04.565573+01:00\n4 sample 2020-10-25 22:41:05.544034+01:00\n5 sample 2020-10-25 22:41:06.473127+01:00\n6 sample 2020-10-25 22:45:28.428127+01:00\n7 sample 2020-10-25 22:45:51.111780+01:00\n8 sample 2020-10-25 22:46:02.606931+01:00\n9 sample 2020-10-25 22:46:03.636041+01:00\n10 sample 2020-10-25 22:49:10.208947+01:00\n11 sample 2020-10-26 00:03:52.596900+01:00\n12 sample 2020-10-26 00:12:14.046050+01:00\n"
     ]
    }
   ],
   "source": [
    "#ier tranformiert man eine String nach datetime format.\n",
    "import os\n",
    "import re\n",
    "from datetime import datetime\n",
    "from pytz import timezone\n",
    "\n",
    "folder = os.getcwd()\n",
    "file = \"write_reads.txt\"\n",
    "\n",
    "if os.path.isfile(folder+\"\\\\\"+file):\n",
    "    info = open(folder+\"\\\\\"+file, \"r\")\n",
    "    lines = info.read()\n",
    "    lines_words = re.sub(\"\\r|\\n|\\t\", \"\", lines)\n",
    "    if lines_words == \"\":\n",
    "        raise ValueError('Empty file')\n",
    "    else:\n",
    "        tz = timezone('Europe/Berlin')\n",
    "        now = datetime.now(tz)\n",
    "        info = open(folder+\"\\\\\"+file, \"r\")\n",
    "        lines = info.readlines()\n",
    "        j = 0\n",
    "        for i in lines:\n",
    "            measure, zeit = i.split(\" || \", 1)[0], i.split(\" || \", 1)[1]\n",
    "            #print(j, measure, zeit)\n",
    "            print(j, measure, tz.localize(datetime.strptime(zeit[:26], \"%Y-%m-%d %H:%M:%S.%f\")))#convertion from str to datetime, timezone is included.\n",
    "            j +=1\n",
    "    info.close()\n",
    "else:\n",
    "    raise ValueError('Path does not exist')"
   ]
  },
  {
   "cell_type": "code",
   "execution_count": 35,
   "metadata": {},
   "outputs": [
    {
     "output_type": "stream",
     "name": "stdout",
     "text": [
      "0 ARD0 || sample0 ||  2020-11-01 01:25:54.639885+01:00\n"
     ]
    }
   ],
   "source": [
    "#Hier schreibt man eine Kette der String von Listen der \"device_names\" und \"grounds\" um eine Linie im Textfile zu addieren. Die Funktion \"print_content_chain\" macht die Aufgabe.\n",
    "import os\n",
    "import re\n",
    "import time\n",
    "from datetime import datetime\n",
    "from pytz import timezone\n",
    "\n",
    "def print_content_chain(object):\n",
    "    output = \"\"\n",
    "    for i in object:\n",
    "        if i ==  object[0]:\n",
    "            output = str(i)\n",
    "        else:\n",
    "            output = output+\" \"+str(i)\n",
    "    return output\n",
    "\n",
    "device_names = ['ARD0']#, 'ARD1', 'ARD2'] #name in srt of the device\n",
    "grounds = [\"sample0\"]#, \"sample1\", \"sample2\"] #call the function to have the number\n",
    "tz = timezone('Europe/Berlin')\n",
    "i = 0\n",
    "for device, measure in enumerate(device_names):\n",
    "    print(i, print_content_chain(device_names)+\" || \"+print_content_chain(grounds)+\" || \", datetime.now(tz))\n",
    "    i += 1\n",
    "    time.sleep(2)"
   ]
  },
  {
   "cell_type": "code",
   "execution_count": null,
   "metadata": {},
   "outputs": [],
   "source": []
  }
 ]
}