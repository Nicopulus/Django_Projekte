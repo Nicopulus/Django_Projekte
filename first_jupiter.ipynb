{
 "metadata": {
  "language_info": {
   "codemirror_mode": {
    "name": "ipython",
    "version": 3
   },
   "file_extension": ".py",
   "mimetype": "text/x-python",
   "name": "python",
   "nbconvert_exporter": "python",
   "pygments_lexer": "ipython3",
   "version": "3.7.7-final"
  },
  "orig_nbformat": 2,
  "kernelspec": {
   "name": "Python 3.7.7 64-bit",
   "display_name": "Python 3.7.7 64-bit",
   "metadata": {
    "interpreter": {
     "hash": "04635d289a519a1410467dd0afb0db42f9184808881ca68b2eb5a687a20a5a94"
    }
   }
  }
 },
 "nbformat": 4,
 "nbformat_minor": 2,
 "cells": [
  {
   "source": [
    "import os\n",
    "import datetime\n",
    "from pytz import timezone\n",
    "\n",
    "def write_reads(measure = \"sample\", now = datetime.datetime.now(tz=timezone('Europe/Berlin'))):\n",
    "    folder = os.getcwd()\n",
    "    file_name = \"write_reads.txt\"\n",
    "    path = folder+\"\\\\\"+file_name\n",
    "    \n",
    "    if os.path.exists(path):\n",
    "        file = open(path, \"a\")\n",
    "    else:\n",
    "        file = open(path, \"w\")\n",
    "    line = measure+\" || \"+str(now)+\"\\n\"\n",
    "    file.write(line)\n",
    "    file.close()\n",
    "    return [line, path]\n",
    "\n",
    "if __name__ == \"__main__\":\n",
    "    test = write_reads()\n",
    "    print(test)   "
   ],
   "cell_type": "code",
   "metadata": {},
   "execution_count": 53,
   "outputs": [
    {
     "output_type": "stream",
     "name": "stdout",
     "text": [
      "['sample || 2020-10-26 00:12:14.046050+01:00\\n', 'd:\\\\repos\\\\django_projekt_1\\\\write_reads.txt']\n"
     ]
    }
   ]
  },
  {
   "cell_type": "code",
   "execution_count": 55,
   "metadata": {},
   "outputs": [
    {
     "output_type": "stream",
     "name": "stdout",
     "text": [
      "2020-10-30 20:21:37.289867+01:00\n0 sample 2020-10-25 22:37:52.746197+01:00\n\n1 sample 2020-10-25 22:40:10.118251+01:00\n\n2 sample 2020-10-25 22:40:47.402868+01:00\n\n3 sample 2020-10-25 22:41:04.565573+01:00\n\n4 sample 2020-10-25 22:41:05.544034+01:00\n\n5 sample 2020-10-25 22:41:06.473127+01:00\n\n6 sample 2020-10-25 22:45:28.428127+01:00\n\n7 sample 2020-10-25 22:45:51.111780+01:00\n\n8 sample 2020-10-25 22:46:02.606931+01:00\n\n9 sample 2020-10-25 22:46:03.636041+01:00\n\n10 sample 2020-10-25 22:49:10.208947+01:00\n\n11 sample 2020-10-26 00:03:52.596900+01:00\n\n12 sample 2020-10-26 00:12:14.046050+01:00\n<class 'datetime.datetime'>\n"
     ]
    }
   ],
   "source": [
    "import os\n",
    "from datetime import datetime\n",
    "from pytz import timezone\n",
    "\n",
    "folder = os.getcwd()\n",
    "file = \"write_reads.txt\"\n",
    "\n",
    "tz = timezone('Europe/Berlin')\n",
    "now = datetime.now(tz)\n",
    "print(now)\n",
    "info = open(folder+\"\\\\\"+file, \"r\")\n",
    "lines = info.readlines()\n",
    "j = 0\n",
    "for i in lines:\n",
    "    measure, zeit = i.split(\" || \", 1)[0], i.split(\" || \", 1)[1]\n",
    "    print(j, measure, zeit)\n",
    "    j +=1\n",
    "\n",
    "print(type(timezone(\"Europe/Berlin\").localize(datetime.strptime(zeit[:26], \"%Y-%m-%d %H:%M:%S.%f\"))))#convertion from str to datetime, timezone is included.\n",
    "\n",
    "info.close()"
   ]
  },
  {
   "cell_type": "code",
   "execution_count": null,
   "metadata": {},
   "outputs": [],
   "source": []
  }
 ]
}