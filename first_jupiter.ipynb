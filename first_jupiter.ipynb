{
 "metadata": {
  "language_info": {
   "codemirror_mode": {
    "name": "ipython",
    "version": 3
   },
   "file_extension": ".py",
   "mimetype": "text/x-python",
   "name": "python",
   "nbconvert_exporter": "python",
   "pygments_lexer": "ipython3",
   "version": "3.7.7-final"
  },
  "orig_nbformat": 2,
  "kernelspec": {
   "name": "Python 3.7.7 64-bit",
   "display_name": "Python 3.7.7 64-bit",
   "metadata": {
    "interpreter": {
     "hash": "04635d289a519a1410467dd0afb0db42f9184808881ca68b2eb5a687a20a5a94"
    }
   }
  }
 },
 "nbformat": 4,
 "nbformat_minor": 2,
 "cells": [
  {
   "source": [
    "import os\n",
    "import datetime\n",
    "from pytz import timezone\n",
    "\n",
    "def write_reads():\n",
    "    folder = os.getcwd()\n",
    "    file_name = \"write_reads.txt\"\n",
    "    path = folder+\"\\\\\"+file_name\n",
    "    now = datetime.datetime.now(tz=timezone('Europe/Berlin'))\n",
    "    if os.path.exists(path):\n",
    "        file = open(path, \"a\")\n",
    "    else:\n",
    "        file = open(path, \"w\")\n",
    "    line = \"sample\"+\" || \"+str(now)+\"\\n\"\n",
    "    file.write(line)\n",
    "    file.close()\n",
    "    return [line, path]\n",
    "\n",
    "if __name__ == \"__main__\":\n",
    "    test = write_reads()\n",
    "    print(test)   "
   ],
   "cell_type": "code",
   "metadata": {},
   "execution_count": 50,
   "outputs": [
    {
     "output_type": "stream",
     "name": "stdout",
     "text": [
      "['sample || 2020-10-25 22:46:03.636041+01:00\\n', 'd:\\\\repos\\\\django_projekt_1\\\\write_reads.txt']\n"
     ]
    }
   ]
  },
  {
   "cell_type": "code",
   "execution_count": 48,
   "metadata": {},
   "outputs": [
    {
     "output_type": "stream",
     "name": "stdout",
     "text": [
      "d:\\repos\\django_projekt_1\\write_reads.txt\n"
     ]
    }
   ],
   "source": [
    "import os\n",
    "\n",
    "folder = os.getcwd()\n",
    "file = \"write_reads.txt\"\n",
    "print(folder+\"\\\\\"+file)"
   ]
  },
  {
   "cell_type": "code",
   "execution_count": null,
   "metadata": {},
   "outputs": [],
   "source": []
  }
 ]
}